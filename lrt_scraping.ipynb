{
 "cells": [
  {
   "cell_type": "code",
   "execution_count": 58,
   "metadata": {},
   "outputs": [],
   "source": [
    "import time, urllib\n",
    "from urllib.request import urlopen\n",
    "\n",
    "import requests\n",
    "\n",
    "import pandas\n",
    "import re\n",
    "\n",
    "col_names = ['title', 'text', 'summary']\n",
    "df  = pandas.DataFrame(columns = col_names)\n",
    "\n",
    "from bs4 import BeautifulSoup\n"
   ]
  },
  {
   "cell_type": "code",
   "execution_count": 60,
   "metadata": {},
   "outputs": [
    {
     "data": {
      "text/html": [
       "<div>\n",
       "<style scoped>\n",
       "    .dataframe tbody tr th:only-of-type {\n",
       "        vertical-align: middle;\n",
       "    }\n",
       "\n",
       "    .dataframe tbody tr th {\n",
       "        vertical-align: top;\n",
       "    }\n",
       "\n",
       "    .dataframe thead th {\n",
       "        text-align: right;\n",
       "    }\n",
       "</style>\n",
       "<table border=\"1\" class=\"dataframe\">\n",
       "  <thead>\n",
       "    <tr style=\"text-align: right;\">\n",
       "      <th></th>\n",
       "      <th>title</th>\n",
       "      <th>text</th>\n",
       "      <th>summary</th>\n",
       "    </tr>\n",
       "  </thead>\n",
       "  <tbody>\n",
       "  </tbody>\n",
       "</table>\n",
       "</div>"
      ],
      "text/plain": [
       "Empty DataFrame\n",
       "Columns: [title, text, summary]\n",
       "Index: []"
      ]
     },
     "execution_count": 60,
     "metadata": {},
     "output_type": "execute_result"
    }
   ],
   "source": [
    "df"
   ]
  },
  {
   "cell_type": "code",
   "execution_count": 67,
   "metadata": {},
   "outputs": [],
   "source": [
    "import ssl\n",
    "ssl._create_default_https_context = ssl._create_unverified_context"
   ]
  },
  {
   "cell_type": "code",
   "execution_count": 74,
   "metadata": {},
   "outputs": [],
   "source": [
    "text = ''\n",
    "\n",
    "res =urlopen('https://www.lrt.lt/naujienos/lietuvoje/2/1361817/covid-19-lietuvoje-naujas-protrukis-su-19-atveju-vilniaus-rajone-teberusena-zidiniai-siauliu-apskrityje-marijampoleje')\n",
    "soup = BeautifulSoup(res.read(), 'html.parser')"
   ]
  },
  {
   "cell_type": "code",
   "execution_count": 75,
   "metadata": {},
   "outputs": [
    {
     "data": {
      "text/plain": [
       "'COVID-19 Lietuvoje: naujas protrūkis su 19 atvejų Vilniaus rajone, teberusena židiniai Šiaulių apskrityje, Marijampolėje'"
      ]
     },
     "execution_count": 75,
     "metadata": {},
     "output_type": "execute_result"
    }
   ],
   "source": [
    "title = soup.find(class_=\"title-block__heading\").text.strip()\n",
    "title"
   ]
  },
  {
   "cell_type": "code",
   "execution_count": 76,
   "metadata": {},
   "outputs": [
    {
     "data": {
      "text/plain": [
       "'Per praėjusią parą Lietuvoje nustatyti 460 naujų COVID-19 atvejai, nuo šios infekcijos šalyje mirė dar 8 žmonės.'"
      ]
     },
     "execution_count": 76,
     "metadata": {},
     "output_type": "execute_result"
    }
   ],
   "source": [
    "summary = soup.find(class_='text-lead').text.strip()\n",
    "summary"
   ]
  },
  {
   "cell_type": "code",
   "execution_count": 77,
   "metadata": {},
   "outputs": [
    {
     "data": {
      "text/plain": [
       "'Praėjusią parą mirė vienas asmuo, priklausęs 40-49 metų amžiaus grupei. Dar keturi – 70-79 metų amžiaus grupės asmenys.Po vieną žmogų mirė 60–69, 80–89 ir 90–99 amžiaus grupėje.Kaip skelbiama Statistikos departamento ataskaitoje, pastarųjų 14 dienų naujų susirgimų rodiklis 100 tūkst. gyventojų siekia 231,4 atvejo. Teigiamų diagnostinių tyrimų dalis per pastarąsias septynias dienas siekia 6,1 procentus.Šie du rodikliai svarbūs, nes pagal jų duomenis Vyriausybė sprendžia dėl karantino laisvinimo scenarijų Lietuvoje.Statistiškai pasveiko ir šiuo metu yra gyvi 189 tūkst. 479 žmonės, deklaruota – 145 tūkst. 351 pasveikusysis. Statistiškai šiuo metu serga 6671 asmenys, deklaruotas sergančiųjų skaičius siekia 50 tūkst. 799.Deklaruotu sergančiuoju Statistikos departamentas laiko asmenį, kuriam buvo patvirtintas ligos atvejis ir ligos pabaiga nepatvirtinta gydytojo. Statistinis sergantysis yra asmuo, kuriam liga patvirtinta per pastarąsias 28 dienas. Praėjus šiam terminui, žmogus laikomas statistiškai pasveikusiu.Anot departamento, statistinių sergančiųjų rodiklis gali būti tikslesnis vertinant populiacijos sergamumą, nes tarp deklaruotų sergančiųjų gali būti atvejų, kai asmuo jau nebeserga, bet šeimos gydytojas nėra patvirtinęs ligos pabaigos.Pirmąja vakcinos nuo COVID-19 doze antradienį paskiepyti 9808 žmonės, antra – 1304 žmogus. Iš viso šalyje pirmąja doze paskiepyta 228 626 žmonės, abiem dozėmis – 88 247 asmenys.Džiugi žinia, galimai imunitetą turinčių asmenų skaičius perkopė 10 proc. ribą ir šiuo metu, Statistikos departamento duomenimis, siekia 10,3 proc.Iš viso Lietuvoje nuo pandemijos pradžios COVID-19 susirgo 203 386 žmonių.Nuo COVID-19 Lietuvoje iš viso mirė 3351 žmogus. Su šia infekcine liga – tiesiogiai ir netiesiogiai – siejama 6756 mirtys.Atvejai, fiksuoti protrūkiuoseNustatytas naujas susirgimas siejamas su protrūkiu Klaipėdos įmonėje saugos paslaugas teikiančioje įmonėje Klaipėdos padalinyje. Iš viso su protrūkiu siejami 3 atvejai.Patvirtintas naujas protrūkis Marijampolėje įsikūrusioje statybos įmonėje. Iš viso su protrūkiu siejami 6 atvejai, iš kurių 2 antriniai atvejai.Tęsiasi židinys Marijampolėje medienos apdirbimu užsiimančioje įmonėje. Iš viso su protrūkiu siejama 10 atvejų, iš kurių 2 antriniai. Per vakar parą patvirtinti 5 atvejai, iš jų 2 antriniai.Naujas protrūkis registruotas Varėnoje įsikūrusioje statybinių prekių parduotuvėje. COVID-19 liga patvirtinta 2 asmenims.Registruotas 1 naujas atvejis, susijęs su besitęsiančiu protrūkiu sporto ir turizmo reikmenų gamyba užsiimančioje įmonėje. Iš viso su protrūkiu siejami 5 atvejai.Naujas COVID-19 protrūkis nustatytas Panevėžyje įsikūrusioje kelių statybos ir remonto įmonėje. Iš viso registruoti 2 atvejai darbuotojams.Taip pat naujas protrūkis nustatytas komunalines paslaugas teikiančioje įmonėje, įsikūrusioje Kupiškyje. Iš viso registruoti 2 atvejai. Susirgo 2 darbuotojai.Šiaulių apskrityje registruoti atvejai, susiję su anksčiau registruotais židiniais. Šiaulių sporto gimnazijos protrūkyje per pastarąją parą patvirtinti 2 nauji atvejai. Bendras susirgusių asmenų skaičius yra 18. Pakruojyje įsikūrusioje inžineriniais tinklais ir sistemomis besirūpinančioje įmonėje patvirtinti 7 nauji atvejai. Koronavirusinė infekcija patvirtinta 5 darbuotojams. Taip pat 2 antriniai atvejai patvirtinti šeimoje. Bendras atvejų skaičius židinyje 10.Naujas protrūkis patvirtintas atliekų perdirbimo įmonėje Vilniaus rajone. Nustatyta 19 pirminių atvejų.Vilniaus stačiatikių Šventosios Dvasios vienuolyno protrūkį papildė 1 pirminis atvejis. Bendrai nustatyti 5 pirminiai atvejai.Per praėjusią parą užregistruotas protrūkis Visagino ligoninėje. Patvirtinta 10 COVID-19 atvejų: 2 įstaigos darbuotojams ir 8 pacientams.Utenoje įsikūrusioje polietileno plėvelės gamyba užsiimančioje įmonėje užregistruoti 4 COVID-19 atvejai. Asmenys dirba vienoje pamainoje.Tęsiasi protrūkis taksi paslaugas teikiančioje įstaigoje Utenoje. Per vakar užregistruotas 1 COVID -19 atvejis. Iš viso užregistruoti 5 COVID-19 atvejai.Pastatų administravimo įmonėje, įsikūrusioje Utenoje tęsiasi protrūkis. Per vakar parą užregistruotas 1 COVID-19 atvejis. Iš viso užregistruoti 3 COVID-19 atvejai.Atvejų, susijusių su protrūkiais šeimose, praėjusią parą visoje Lietuvoje, šiuo metu turimais duomenimis, registruota 64.Savo ruožtu, visuomenės sveikatos specialistai ragina žmones laikytis visų koronaviruso infekcijos plitimo prevencijos priemonių – rankų higienos, kosėjimo, čiaudėjimo etiketo, dėvėti asmens apaugos priemones, laikytis fizinės distancijos ir kita.Ligoninėse šiuo metu gydoma 850 COVID-19 pacientų, iš jų 88 – reanimacijojeLietuvos ligoninėse šiuo metu gydoma 850 COVID-19 pacientų, 88 iš jų – reanimacijoje, trečiadienį pranešė Statistikos departamentas.Deguonis papildomai tiekiamas 709 ligoniams, 53 pacientams taikoma dirbtinė plaučių ventiliacija.Per parą į ligonines dėl COVID-19 paguldyti 76 žmonės.Iš viso Lietuvoje nuo pandemijos pradžios COVID-19 susirgo 203 tūkst. 386 žmonės.'"
      ]
     },
     "execution_count": 77,
     "metadata": {},
     "output_type": "execute_result"
    }
   ],
   "source": [
    "for el in soup.select(\"p\")[1:]:\n",
    "    text += el.text.strip()\n",
    "text"
   ]
  },
  {
   "cell_type": "code",
   "execution_count": 78,
   "metadata": {},
   "outputs": [],
   "source": [
    "df = df.append({'text' : text , 'summary' : summary, 'title' : title }, ignore_index=True)"
   ]
  },
  {
   "cell_type": "code",
   "execution_count": 79,
   "metadata": {},
   "outputs": [
    {
     "data": {
      "text/html": [
       "<div>\n",
       "<style scoped>\n",
       "    .dataframe tbody tr th:only-of-type {\n",
       "        vertical-align: middle;\n",
       "    }\n",
       "\n",
       "    .dataframe tbody tr th {\n",
       "        vertical-align: top;\n",
       "    }\n",
       "\n",
       "    .dataframe thead th {\n",
       "        text-align: right;\n",
       "    }\n",
       "</style>\n",
       "<table border=\"1\" class=\"dataframe\">\n",
       "  <thead>\n",
       "    <tr style=\"text-align: right;\">\n",
       "      <th></th>\n",
       "      <th>title</th>\n",
       "      <th>text</th>\n",
       "      <th>summary</th>\n",
       "    </tr>\n",
       "  </thead>\n",
       "  <tbody>\n",
       "    <tr>\n",
       "      <th>0</th>\n",
       "      <td>Vyriausybei siūloma dar švelninti karantiną: a...</td>\n",
       "      <td>Dokumente, kurį trečiadienį svarstys ministrų ...</td>\n",
       "      <td>Sveikatos apsaugos ministerija (SAM) parengė d...</td>\n",
       "    </tr>\n",
       "    <tr>\n",
       "      <th>1</th>\n",
       "      <td>COVID-19 Lietuvoje: naujas protrūkis su 19 atv...</td>\n",
       "      <td>Praėjusią parą mirė vienas asmuo, priklausęs 4...</td>\n",
       "      <td>Per praėjusią parą Lietuvoje nustatyti 460 nau...</td>\n",
       "    </tr>\n",
       "  </tbody>\n",
       "</table>\n",
       "</div>"
      ],
      "text/plain": [
       "                                               title  \\\n",
       "0  Vyriausybei siūloma dar švelninti karantiną: a...   \n",
       "1  COVID-19 Lietuvoje: naujas protrūkis su 19 atv...   \n",
       "\n",
       "                                                text  \\\n",
       "0  Dokumente, kurį trečiadienį svarstys ministrų ...   \n",
       "1  Praėjusią parą mirė vienas asmuo, priklausęs 4...   \n",
       "\n",
       "                                             summary  \n",
       "0  Sveikatos apsaugos ministerija (SAM) parengė d...  \n",
       "1  Per praėjusią parą Lietuvoje nustatyti 460 nau...  "
      ]
     },
     "execution_count": 79,
     "metadata": {},
     "output_type": "execute_result"
    }
   ],
   "source": [
    "df"
   ]
  },
  {
   "cell_type": "code",
   "execution_count": null,
   "metadata": {},
   "outputs": [],
   "source": []
  }
 ],
 "metadata": {
  "kernelspec": {
   "display_name": "Python 3",
   "language": "python",
   "name": "python3"
  },
  "language_info": {
   "codemirror_mode": {
    "name": "ipython",
    "version": 3
   },
   "file_extension": ".py",
   "mimetype": "text/x-python",
   "name": "python",
   "nbconvert_exporter": "python",
   "pygments_lexer": "ipython3",
   "version": "3.7.3"
  }
 },
 "nbformat": 4,
 "nbformat_minor": 2
}
